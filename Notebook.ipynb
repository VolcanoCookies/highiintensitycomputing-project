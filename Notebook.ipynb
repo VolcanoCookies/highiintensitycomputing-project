{
 "cells": [
  {
   "cell_type": "code",
   "execution_count": null,
   "id": "c4202d8d",
   "metadata": {},
   "outputs": [],
   "source": [
    "!pip install pyspark\n",
    "!pip install cassandra-driver"
   ]
  },
  {
   "cell_type": "code",
   "execution_count": null,
   "id": "a6bed0d6",
   "metadata": {},
   "outputs": [],
   "source": [
    "from pyspark.sql import SparkSession\n",
    "from pyspark.sql.types import StructType, StructField, StringType, IntegerType, LongType\n",
    "from pyspark.sql.functions import col, isnan, when, count, avg, first, regexp_replace\n",
    "\n",
    "# Create a Spark session\n",
    "spark = SparkSession.builder.appName(\"example\").getOrCreate()\n",
    "\n",
    "# Survey\n",
    "survey_schema = StructType([\n",
    "    StructField(\"Id\", IntegerType(), True),\n",
    "    StructField(\"Age\", StringType(), True),\n",
    "    StructField(\"Accessibility\", StringType(), True),\n",
    "    StructField(\"EdLevel\", StringType(), True),\n",
    "    StructField(\"Employment\", IntegerType(), True),\n",
    "    StructField(\"Gender\", StringType(), True),\n",
    "    StructField(\"MentalHealth\", StringType(), True),\n",
    "    StructField(\"MainBranch\", StringType(), True),\n",
    "    StructField(\"YearsCode\", IntegerType(), True),\n",
    "    StructField(\"YearsCodePro\", IntegerType(), True),\n",
    "    StructField(\"Country\", StringType(), True),\n",
    "    StructField(\"PreviousSalary\", StringType(), True),\n",
    "    StructField(\"HaveWorkedWith\", StringType(), True),\n",
    "    StructField(\"ComputerSkills\", IntegerType(), True),\n",
    "    StructField(\"Employed\", IntegerType(), True)\n",
    "])\n",
    "df = spark.read.csv(\"./raw_data.csv\", header=True, schema=survey_schema)\n",
    "\n",
    "# Country Codes, Courtesy of https://raw.githubusercontent.com/lukes/ISO-3166-Countries-with-Regional-Codes/master/all/all.csv\n",
    "country_codes_schema = StructType([\n",
    "])\n",
    "\n",
    "cdf = spark.read.csv(\"./country_codes.csv\", header=True, inferSchema=True)\n",
    "cdf = cdf.select(\"name\", \"country-code\").withColumnsRenamed({\"name\": \"Country\", \"country-code\": \"CountryCode\"})\n",
    "cdf.show(truncate=True)\n",
    "\n",
    "# Output dataframe\n",
    "output = spark.createDataFrame([], StructType([\n",
    "    StructField(\"Country\", StringType(), True)\n",
    "]))\n",
    "\n",
    "cols = list(set(df.columns) - {\"Country\"})\n",
    "df = df.select(*cols, regexp_replace(\"Country\", \"Republic of Korea\", \"South Korea\").alias(\"Country\")) \\\n",
    "    .select(*cols, regexp_replace(\"Country\", \"[\\.,\\()\\-_']\", \"\").alias(\"Country\"))\n",
    "tdf = df.groupBy(\"Country\").count().select(\"Country\")\n",
    "cdf = cdf.select(\"CountryCode\", regexp_replace(\"Country\", \"[\\.,\\()\\-_']\", \"\").alias(\"Country\"))\n",
    "\n",
    "patch = [\n",
    "    (\"Bolivia\", 68),\n",
    "    (\"Cape Verde\", 132),\n",
    "    (\"Congo Republic of the\", 180),\n",
    "    (\"Czech Republic\", 203),\n",
    "    (\"Democratic Republic of the Congo\", 180),\n",
    "    (\"Hong Kong SAR\", 344),\n",
    "    (\"Libyan Arab Jamahiriya\", 434),\n",
    "    (\"Palestine\", 275),\n",
    "    (\"South Korea\", 410),\n",
    "    (\"Republic of Moldova\", 498),\n",
    "    (\"Taiwan\", 158),\n",
    "    (\"United Republic of Tanzania\", 834),\n",
    "    (\"The former Yugoslav Republic of Macedonia\", 807)\n",
    "]\n",
    "patch_schema = StructType([\n",
    "    StructField(\"Country\", StringType(), True),\n",
    "    StructField(\"CountryCode\", IntegerType(), True)\n",
    "])\n",
    "patch_df = spark.createDataFrame(data=patch, schema=patch_schema)\n",
    "\n",
    "cdf = cdf.join(patch_df, on=[\"Country\", \"CountryCode\"], how=\"outer\")\n",
    "\n",
    "output = output.join(tdf, on=\"Country\", how=\"outer\")\n",
    "output = output.join(cdf, on=\"Country\", how=\"inner\")\n",
    "\n",
    "selected_columns=df.select(df.columns[6:])\n",
    "# Show the DataFrame\n",
    "#selected_columns.show(truncate=True)"
   ]
  },
  {
   "cell_type": "code",
   "execution_count": null,
   "id": "b757393f",
   "metadata": {
    "scrolled": true
   },
   "outputs": [],
   "source": [
    "columns_to_average = [\"Employment\",\"YearsCode\",\"YearsCodePro\",\"PreviousSalary\",\"ComputerSkills\",\"Employed\"]  \n",
    "result_df = df.groupBy(\"Country\").agg(*(avg(col(c)).alias(f\"Avg_{c}\") for c in columns_to_average))\n",
    "\n",
    "result_df.show(truncate=True)\n",
    "output = output.join(result_df, on=\"Country\", how=\"inner\")"
   ]
  },
  {
   "cell_type": "code",
   "execution_count": null,
   "id": "3c0f6b27",
   "metadata": {},
   "outputs": [],
   "source": [
    "result_df = df.groupBy(\"Country\", \"Gender\").agg(count(\"*\").alias(\"Count\"))\n",
    "result_pivoted = result_df.groupBy(\"Country\").pivot(\"Gender\", [\"Man\", \"Woman\"]).agg(first(\"Count\").alias(\"Count\")).fillna(0)\n",
    "\n",
    "result_pivoted.show(truncate=True)\n",
    "output = output.join(result_pivoted, on=\"Country\", how=\"inner\")"
   ]
  },
  {
   "cell_type": "code",
   "execution_count": null,
   "id": "70e6f76b",
   "metadata": {},
   "outputs": [],
   "source": [
    "result_df = df.groupBy(\"Country\", \"Age\").agg(count(\"*\").alias(\"Count\"))\n",
    "result_pivoted = result_df.groupBy(\"Country\").pivot(\"Age\", [\"<35\", \">35\"]).agg(first(\"Count\").alias(\"Count\")).fillna(0)\n",
    "\n",
    "result_pivoted.show(truncate=True)\n",
    "output = output.join(result_pivoted, on=\"Country\", how=\"inner\")"
   ]
  },
  {
   "cell_type": "code",
   "execution_count": null,
   "id": "51764310",
   "metadata": {},
   "outputs": [],
   "source": [
    "result_df = df.groupBy(\"Country\", \"MainBranch\").agg(count(\"*\").alias(\"Count\"))\n",
    "result_pivoted = result_df.groupBy(\"Country\").pivot(\"MainBranch\", [\"Dev\", \"NotDev\"]).agg(first(\"Count\").alias(\"Count\")).fillna(0)\n",
    "\n",
    "result_pivoted.show(truncate=True)\n",
    "output = output.join(result_pivoted, on=\"Country\", how=\"inner\")"
   ]
  },
  {
   "cell_type": "code",
   "execution_count": null,
   "id": "9ab15670",
   "metadata": {},
   "outputs": [],
   "source": [
    "result_df = df.groupBy(\"Country\", \"MentalHealth\").agg(count(\"*\").alias(\"Count\"))\n",
    "\n",
    "result_pivoted = result_df.groupBy(\"Country\").pivot(\"MentalHealth\", [\"Yes\", \"No\"]).agg(first(\"Count\").alias(\"Count\"))\n",
    "result_pivoted = result_pivoted.fillna(0).withColumnsRenamed({\"Yes\": \"MentalHealthIssuesYes\", \"No\": \"MentalHealthIssuesNo\"})\n",
    "\n",
    "result_pivoted.show(truncate=False)\n",
    "output = output.join(result_pivoted, on=\"Country\", how=\"inner\")"
   ]
  },
  {
   "cell_type": "code",
   "execution_count": null,
   "id": "d1741c3b",
   "metadata": {},
   "outputs": [],
   "source": [
    "education_levels = ['Master', 'Undergraduate', 'Other', 'PhD', 'NoHigherEd']\n",
    "df = df.withColumn(\"EdLevel\", when(col(\"EdLevel\").isin(education_levels), col(\"EdLevel\")).otherwise(\"Other\"))\n",
    "\n",
    "result_df = df.groupBy(\"Country\", \"EdLevel\").agg(count(\"*\").alias(\"Count\"))\n",
    "result_pivoted = result_df.groupBy(\"Country\").pivot(\"EdLevel\").agg(first(\"Count\").alias(\"Count\"))\n",
    "result_pivoted = result_pivoted.fillna(0)\n",
    "\n",
    "result_pivoted.show(truncate=False)\n",
    "output = output.join(result_pivoted, on=\"Country\", how=\"inner\")"
   ]
  },
  {
   "cell_type": "code",
   "execution_count": null,
   "id": "79ffb16a",
   "metadata": {},
   "outputs": [],
   "source": [
    "from cassandra.cluster import Cluster\n",
    "from cassandra.auth import PlainTextAuthProvider\n",
    "import json\n",
    "\n",
    "with open('credentials.json') as f:\n",
    "    creds = json.load(f)\n",
    "\n",
    "auth_provider = PlainTextAuthProvider(username=creds['user'], password=creds['pass'])\n",
    "cluster = Cluster(['demo-dc1-all-pods-service.k8ssandra-operator.svc.cluster.local'], auth_provider=auth_provider)\n",
    "session = cluster.connect()\n",
    "\n",
    "session.set_keyspace('prod')\n",
    "rows = output.collect()\n",
    "batch = \"BEGIN BATCH\\n\"\n",
    "for row in rows:\n",
    "    batch += \"INSERT INTO employment (country, code, avgEmployment, avgYearsCode, avgYearsCodePro, avgPreviousSalary, avgComputerSkills, men, women, below35, above35, dev, notDev, mentalHealthIssuesYes, mentalHealthIssuesNo, phd, master, undergraduate, noHigherEd, otherEd) \"\n",
    "    batch += \"VALUES ('{}', {}, {}, {}, {}, {}, {}, {}, {}, {}, {}, {}, {}, {}, {}, {}, {}, {}, {}, {});\\n\".format(\n",
    "        row.Country,\n",
    "        row.CountryCode,\n",
    "        row.Avg_Employment,\n",
    "        row.Avg_YearsCode,\n",
    "        row.Avg_YearsCodePro,\n",
    "        row.Avg_PreviousSalary,\n",
    "        row.Avg_ComputerSkills,\n",
    "        row.Man,\n",
    "        row.Woman,\n",
    "        row[\"<35\"],\n",
    "        row[\">35\"],\n",
    "        row.Dev,\n",
    "        row.NotDev,\n",
    "        row.MentalHealthIssuesYes,\n",
    "        row.MentalHealthIssuesNo,\n",
    "        row.PhD,\n",
    "        row.Master,\n",
    "        row.Undergraduate,\n",
    "        row.NoHigherEd,\n",
    "        row.Other\n",
    "    )\n",
    "batch += \"APPLY BATCH\"\n",
    "session.execute(batch)"
   ]
  },
  {
   "cell_type": "code",
   "execution_count": null,
   "id": "d3a6bac2-5cbd-4088-b57b-b2c8ea1377a6",
   "metadata": {},
   "outputs": [],
   "source": []
  }
 ],
 "metadata": {
  "kernelspec": {
   "display_name": "Python 3 (ipykernel)",
   "language": "python",
   "name": "python3"
  },
  "language_info": {
   "codemirror_mode": {
    "name": "ipython",
    "version": 3
   },
   "file_extension": ".py",
   "mimetype": "text/x-python",
   "name": "python",
   "nbconvert_exporter": "python",
   "pygments_lexer": "ipython3",
   "version": "3.8.0"
  }
 },
 "nbformat": 4,
 "nbformat_minor": 5
}
